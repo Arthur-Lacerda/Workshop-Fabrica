{
  "nbformat": 4,
  "nbformat_minor": 0,
  "metadata": {
    "colab": {
      "provenance": [],
      "authorship_tag": "ABX9TyNTu73QYzlxqp3CHImVdtnx",
      "include_colab_link": true
    },
    "kernelspec": {
      "name": "python3",
      "display_name": "Python 3"
    },
    "language_info": {
      "name": "python"
    }
  },
  "cells": [
    {
      "cell_type": "markdown",
      "metadata": {
        "id": "view-in-github",
        "colab_type": "text"
      },
      "source": [
        "<a href=\"https://colab.research.google.com/github/Arthur-Lacerda/Workshop-Fabrica/blob/main/exerciciosFabrica.ipynb\" target=\"_parent\"><img src=\"https://colab.research.google.com/assets/colab-badge.svg\" alt=\"Open In Colab\"/></a>"
      ]
    },
    {
      "cell_type": "markdown",
      "source": [
        "**PARTE 1 - OPERACIONAIS**"
      ],
      "metadata": {
        "id": "XCTIAfgToaBn"
      }
    },
    {
      "cell_type": "markdown",
      "source": [
        "**Crie um programa que pegue um número e diga o antecessor e o sucessor dele**"
      ],
      "metadata": {
        "id": "KgCc5xY4PC7o"
      }
    },
    {
      "cell_type": "code",
      "source": [
        "num = int(input(\"Digite o número: \"))\n",
        "print(\"O antecessor desse numero é: %i\" % (num - 1))\n",
        "print(\"O sucessor desse numero é: %i\" % (num + 1))"
      ],
      "metadata": {
        "id": "0AGm4O6Coa-2"
      },
      "execution_count": null,
      "outputs": []
    },
    {
      "cell_type": "markdown",
      "source": [
        "**Crie um programa que leia dois numeros e exiba a soma dos dois numeros, a subtração, multiplicação e divisão**"
      ],
      "metadata": {
        "id": "I_xZ88lwobIe"
      }
    },
    {
      "cell_type": "code",
      "source": [
        "num1 = float(input(\"digite o 1° número: \"))\n",
        "num2 = float(input(\"digite o 2° número: \"))\n",
        "print(f\"\\nResultados:\\nsoma: %1.1f\" % (num1+num2), \"\\nsubtração: %1.1f\" % (num1-num2), \"\\nmultiplicação: %1.1f\" % (num1*num2), \"\\ndivisão: %1.2f\" % (num1/num2))"
      ],
      "metadata": {
        "id": "m_T_-iR1obO-"
      },
      "execution_count": null,
      "outputs": []
    },
    {
      "cell_type": "markdown",
      "source": [
        "**crie um programa que leia dois numeros e que exiba True se o primeiro numero for maior que o primeiro e False se o primeiro numero for menor ou igual ao segundo numero**"
      ],
      "metadata": {
        "id": "DMcPHfu4obU3"
      }
    },
    {
      "cell_type": "code",
      "source": [
        "num1 = float(input(\"digite o 1° número: \"))\n",
        "num2 = float(input(\"digite o 2° número: \"))\n",
        "\n",
        "print(num1>num2)"
      ],
      "metadata": {
        "id": "HRqm0rgVobZu"
      },
      "execution_count": null,
      "outputs": []
    },
    {
      "cell_type": "markdown",
      "source": [
        "**crie um programa que leia uma temperatura em celsius e a converta para fahrenheit (0 °C × 9/5) + 32 = 32 °F**\n"
      ],
      "metadata": {
        "id": "LB05jPIBobfW"
      }
    },
    {
      "cell_type": "code",
      "source": [
        "temp = float(input(\"insira uma temperatura em celsius: \"))\n",
        "\n",
        "print(\"Essa é a temperatura convertida para fahrenheit %1.1f °F\" % (temp * 9 / 5 + 32))\n"
      ],
      "metadata": {
        "id": "qIKoO1SgobkO"
      },
      "execution_count": null,
      "outputs": []
    },
    {
      "cell_type": "markdown",
      "source": [
        "**PARTE 2- CONDICIONAIS**"
      ],
      "metadata": {
        "id": "Qi_xuZhbobp-"
      }
    },
    {
      "cell_type": "markdown",
      "source": [
        "**crie um programa que receba uma idade e retorne se pode obter carteira de motorista(CNH)**"
      ],
      "metadata": {
        "id": "He1g4gIAob0H"
      }
    },
    {
      "cell_type": "code",
      "source": [
        "idade = int(input(\"digite sua idade: \"))\n",
        "\n",
        "if (idade >= 18) :\n",
        "  print(\"pode\")\n",
        "else:\n",
        "  print(\"não pode\")"
      ],
      "metadata": {
        "id": "Dn0StrnKsx4l"
      },
      "execution_count": null,
      "outputs": []
    },
    {
      "cell_type": "markdown",
      "source": [
        "**crie um programa que leia uma velocidade de um carro e multe se passar com velocidade maior que 80km/h. mostre que ele foi multado. a multa é de 7R$ por cada km acima do limite**"
      ],
      "metadata": {
        "id": "5Doo26OGtHNn"
      }
    },
    {
      "cell_type": "code",
      "source": [
        "velocidade = float(input(\"digite a velocidade (em km/h) do carro: \"))\n",
        "\n",
        "if (velocidade <= 80):\n",
        "  print(\"Velocidade dentro do limite\")\n",
        "else:\n",
        "  print(\"Multado em %2.2fR$\" % ((velocidade - 80) * 7))"
      ],
      "metadata": {
        "id": "x-oTbMh1tK0R"
      },
      "execution_count": null,
      "outputs": []
    },
    {
      "cell_type": "markdown",
      "source": [
        "**crie um programa que leia tres numeros e mostre qual deles e o maior e o menor**"
      ],
      "metadata": {
        "id": "uSYdrdaMt7yY"
      }
    },
    {
      "cell_type": "code",
      "source": [
        "num1 = float(input(\"digite o 1° número: \"))\n",
        "num2 = float(input(\"digite o 2° número: \"))\n",
        "num3 = float(input(\"digite o 3° número: \"))\n",
        "\n",
        "if (num1 >= num2 and num1 >= num3):\n",
        "  maior = num1\n",
        "  if(num2 >= num3):\n",
        "    menor = num3\n",
        "  else:\n",
        "    menor = num2\n",
        "elif(num2 >= num3):\n",
        "  maior = num2\n",
        "  if(num1 <= num3):\n",
        "    menor = num1\n",
        "  else:\n",
        "    menor = num3\n",
        "else:\n",
        "  if(num1 <= num2):\n",
        "    menor = num1\n",
        "  else:\n",
        "    menor = num2\n",
        "  maior = num3\n",
        "\n",
        "\n",
        "\n",
        "print(\"\\n\\nO maior número é %1.1f\" % maior, \" e o menor número é %1.1f\" % menor)"
      ],
      "metadata": {
        "id": "XhRf4y45t9lo"
      },
      "execution_count": null,
      "outputs": []
    },
    {
      "cell_type": "markdown",
      "source": [
        "**crie um programa que receba uma quantidade de canetas pretas e azuis. A caneta azul vale R$2.00, a caneta preta vale R$2.50. Mostre a quantidade final a ser paga**"
      ],
      "metadata": {
        "id": "nQPYD6UVwtXQ"
      }
    },
    {
      "cell_type": "code",
      "source": [
        "num1 = int(input(\"Digite quantas canetas azuis você comprou: \"))\n",
        "num2 = int(input(\"Digite quantas canetas pretas você comprou: \"))\n",
        "\n",
        "print(\"\\n\\nO valor pago será %1.2fR$\" % ((num1 * 2)+(num2*2.5)))"
      ],
      "metadata": {
        "id": "eJUYl13-wuOQ"
      },
      "execution_count": null,
      "outputs": []
    },
    {
      "cell_type": "markdown",
      "source": [
        "**crie um programa que leia o nome de tres pessoas: João Maia, João Abrantes e Pedro. Para os respectivos nomes imprima:'oi eu sou joao maia', 'oi eu sou joao abrantes', 'oi eu sou pedro', e caso o nome nao seja nenhum dos tres imprima 'oi meu nome é {nome}'**"
      ],
      "metadata": {
        "id": "1sIfggLbxpSZ"
      }
    },
    {
      "cell_type": "code",
      "source": [
        "nome1 = input(\"digite o 1° nome: \")\n",
        "nome2 = input(\"digite o 2° nome: \")\n",
        "nome3 = input(\"digite o 3° nome: \")\n",
        "\n",
        "print(\"\\n\\n\\nOi meu nome é %s\" %nome1)\n",
        "print(\"Oi meu nome é %s\" %nome2)\n",
        "print(\"Oi meu nome é %s\" %nome3)"
      ],
      "metadata": {
        "id": "qU0i1qmtyAUz"
      },
      "execution_count": null,
      "outputs": []
    },
    {
      "cell_type": "markdown",
      "source": [
        "**PARTE 3 - LOOPS**"
      ],
      "metadata": {
        "id": "nfZQfvM-zOoj"
      }
    },
    {
      "cell_type": "markdown",
      "source": [
        "**utilize estrutura de repeticao for para imprimir numeros de 0 a 10.**"
      ],
      "metadata": {
        "id": "Nf_y4U-ozUIL"
      }
    },
    {
      "cell_type": "code",
      "source": [
        "for i in range (11):\n",
        "  print(i)"
      ],
      "metadata": {
        "id": "MGr0GFFwzX-p"
      },
      "execution_count": null,
      "outputs": []
    },
    {
      "cell_type": "markdown",
      "source": [
        "**utilize estrutura de repeticao for para imprimir numeros de 10 a 0.**"
      ],
      "metadata": {
        "id": "gs4s8dZdz08a"
      }
    },
    {
      "cell_type": "code",
      "source": [
        "for i in range (10,-1,-1):\n",
        "  print(i)"
      ],
      "metadata": {
        "id": "1TPEPqDzz23q"
      },
      "execution_count": null,
      "outputs": []
    },
    {
      "cell_type": "markdown",
      "source": [
        "**utilize estrutura de repeticao for para imprimir numeros pares de 0 a 10.**"
      ],
      "metadata": {
        "id": "uqQXPmxP0F1A"
      }
    },
    {
      "cell_type": "code",
      "source": [
        "for i in range (11):\n",
        "  if((i%2) == 0):\n",
        "    print(i)"
      ],
      "metadata": {
        "id": "66FQML090H3g"
      },
      "execution_count": null,
      "outputs": []
    },
    {
      "cell_type": "markdown",
      "source": [
        "**utilize estrutura de repeticao for para fazer a tabuada de adição de 0 a 10 de um numero digitado no terminal.**"
      ],
      "metadata": {
        "id": "Upmgp0NT0yEY"
      }
    },
    {
      "cell_type": "code",
      "source": [
        "num1 = int(input(\"digite um número: \"))\n",
        "for i in range (11):\n",
        "  print(\"%i +\"% i,\"%i\" % num1, \"= %i\" % (num1 + i))"
      ],
      "metadata": {
        "id": "jc-xJrcD0yuI"
      },
      "execution_count": null,
      "outputs": []
    },
    {
      "cell_type": "markdown",
      "source": [
        "**utilizando estrutura de repeticao while crie um programa que peça varios nomes e só pare quando for digitado \"parar\"**"
      ],
      "metadata": {
        "id": "FRV0aPdb1ZLU"
      }
    },
    {
      "cell_type": "code",
      "source": [
        "while (True):\n",
        "  nome = input(\"Digite seu nome(parar para interromper): \")\n",
        "  if (nome == \"parar\"):\n",
        "    break\n",
        "  print(nome)\n",
        "\n"
      ],
      "metadata": {
        "id": "RWQcMW9N1cTK"
      },
      "execution_count": null,
      "outputs": []
    },
    {
      "cell_type": "markdown",
      "source": [
        "**utilizando estrutura de repeticao while crie um programa que faça a soma de todos os numeros digitados. o loop so devera parar quando for digitado 0**\n",
        "\n"
      ],
      "metadata": {
        "id": "kVvYQeBW2ajZ"
      }
    },
    {
      "cell_type": "code",
      "source": [
        "soma = 0\n",
        "while (True):\n",
        "  num = int(input(\"digite um numero para adicionar a soma:(0 para interromper) \"))\n",
        "  soma += num\n",
        "  if(num == 0):\n",
        "    break\n",
        "print(\"\\nA soma deu %i\" % soma)"
      ],
      "metadata": {
        "id": "3ux7HDhD2bPI"
      },
      "execution_count": null,
      "outputs": []
    },
    {
      "cell_type": "markdown",
      "source": [
        "**utilizando estrutura de repeticao while crie um programa que leia exclusivamente o sexo como 'F' e 'M' e o loop so deve terminar quando sexo for = sair. ao fim mostre a quantidade e mulheres e homens**"
      ],
      "metadata": {
        "id": "uyDazN--3OVr"
      }
    },
    {
      "cell_type": "code",
      "source": [
        "mulheres = 0\n",
        "homens = 0\n",
        "\n",
        "while (True):\n",
        "  sexo = input(\"qual o seu sexo? ('F' para feminino 'M' para masculino e 'sair' para mostrar o resultado)\")\n",
        "  if(sexo == \"sair\"):\n",
        "    break\n",
        "  elif (sexo == \"F\"):\n",
        "    mulheres += 1\n",
        "  elif(sexo == \"M\"):\n",
        "    homens += 1\n",
        "  else:\n",
        "    print(\"Dado lido é inválido, favor digitar as opções nos parênteses\")\n",
        "\n",
        "print(\" A quantidade de mulheres é: %i\" %mulheres, \"\\nA quantidade de homens é: %i\" %homens)"
      ],
      "metadata": {
        "id": "OlLlmq6M3PGr"
      },
      "execution_count": null,
      "outputs": []
    },
    {
      "cell_type": "markdown",
      "source": [
        "**PARTE 4 - LISTAS**"
      ],
      "metadata": {
        "id": "0rAj63Mc47al"
      }
    },
    {
      "cell_type": "markdown",
      "source": [
        "**Crie um programa que simule uma fila de tarefas a serem executadas. O usuário deve poder adicionar tarefas à fila e retirá-las na ordem em que foram adicionadas. (1 adicionar, 2 executar, 3 encerrar)**"
      ],
      "metadata": {
        "id": "f4uarKVY5Cc0"
      }
    },
    {
      "cell_type": "code",
      "source": [
        "fila = []\n",
        "print(\"\\nMenu:\\n1 - Adcionar uma tarefa\\n2 - Executar a tarefa\\n3 - Sair\")\n",
        "while (True):\n",
        "  num = (int(input(\"\\nDigite sua opção: \")))\n",
        "  if(num == 1):\n",
        "    fila.append(input(\"Digite a descrição da sua tarefa: \"))\n",
        "  elif(num == 2):\n",
        "    tarefa = fila.pop(0)\n",
        "    print(\"Executando: %s\" % tarefa)\n",
        "  elif(num == 3):\n",
        "    break\n",
        "  else:\n",
        "    print(\"\\nopção inválida, digite uma do menu\\n\")"
      ],
      "metadata": {
        "id": "9kSf2PzJ5QRD"
      },
      "execution_count": null,
      "outputs": []
    },
    {
      "cell_type": "markdown",
      "source": [
        "**agora modifique o programa anterior mudando a logica de fila para pilha**"
      ],
      "metadata": {
        "id": "kC4HoqvZ7fM0"
      }
    },
    {
      "cell_type": "code",
      "source": [
        "pilha = []\n",
        "print(\"\\nMenu:\\n1 - Adcionar uma tarefa\\n2 - Executar a tarefa\\n3 - Sair\")\n",
        "while (True):\n",
        "  num = (int(input(\"\\nDigite sua opção: \")))\n",
        "  if(num == 1):\n",
        "    pilha.append(input(\"Digite a descrição da sua tarefa: \"))\n",
        "  elif(num == 2):\n",
        "    tarefa = pilha.pop()\n",
        "    print(\"Executando: %s\" % tarefa)\n",
        "  elif(num == 3):\n",
        "    break\n",
        "  else:\n",
        "    print(\"\\nopção inválida, digite uma do menu\\n\")"
      ],
      "metadata": {
        "id": "G2ig5vnd7hkL"
      },
      "execution_count": null,
      "outputs": []
    },
    {
      "cell_type": "markdown",
      "source": [
        "**PARTE 6 - Funções e módulos**"
      ],
      "metadata": {
        "id": "xO_Y69SKm_rM"
      }
    },
    {
      "cell_type": "markdown",
      "source": [
        "**Refaça alguns codigos anteriores com funçoes**"
      ],
      "metadata": {
        "id": "AdzNRmILnEcn"
      }
    },
    {
      "cell_type": "markdown",
      "source": [
        "**Código do programa de antecessor e sucessor com função**"
      ],
      "metadata": {
        "id": "F1IuFMwLpzcW"
      }
    },
    {
      "cell_type": "code",
      "source": [
        "def antecessorSucessor(num):\n",
        "  print(\"O antecessor desse numero é: %i\" % (num - 1))\n",
        "  print(\"O sucessor desse numero é: %i\" % (num + 1))\n",
        "\n",
        "antecessorSucessor(int(input(\"digite um numero: \")))"
      ],
      "metadata": {
        "id": "7c5DSIrZnM33"
      },
      "execution_count": null,
      "outputs": []
    },
    {
      "cell_type": "markdown",
      "source": [
        "**Código do programa da multa com função**"
      ],
      "metadata": {
        "id": "fyZVIiYKp9oO"
      }
    },
    {
      "cell_type": "code",
      "source": [
        "def multa(velocidade):\n",
        "  return ((velocidade - 80) * 7)\n",
        "\n",
        "print(\"Multado em %2.2fR$\" % multa(float(input(\"digite a velocidade capitada(em km/h): \"))))"
      ],
      "metadata": {
        "id": "k_aDAbEiqAUu"
      },
      "execution_count": null,
      "outputs": []
    },
    {
      "cell_type": "markdown",
      "source": [
        "**Código do programa dos valores de canetas em função**"
      ],
      "metadata": {
        "id": "wXqdbEUSrH4y"
      }
    },
    {
      "cell_type": "code",
      "source": [
        "def valorCanetas(azul,vermelha):\n",
        "  return ((azul * 2)+(vermelha * 2.5))\n",
        "\n",
        "num1 = int(input(\"Digite quantas canetas azuis você comprou: \"))\n",
        "num2 = int(input(\"Digite quantas canetas pretas você comprou: \"))\n",
        "\n",
        "print(\"\\n\\nO valor pago será %1.2fR$\" % valorCanetas(num1,num2))"
      ],
      "metadata": {
        "id": "sjKzG86erNb9"
      },
      "execution_count": null,
      "outputs": []
    },
    {
      "cell_type": "markdown",
      "source": [
        "**Código da tabuada de adição de 0 a 10 em função**"
      ],
      "metadata": {
        "id": "QE00WTKyr8Jx"
      }
    },
    {
      "cell_type": "code",
      "source": [
        "def adicao(valor):\n",
        "  for i in range (11):\n",
        "    print(\"%i +\"% i,\"%i\" % valor, \"= %i\" % (valor + i))\n",
        "\n",
        "adicao(int(input(\"Digite o 1° número para a tabuada ser feita: \")))\n",
        "adicao(int(input(\"Digite o 2° número para a tabuada ser feita: \")))\n",
        "adicao(int(input(\"Digite o 3° número para a tabuada ser feita: \")))"
      ],
      "metadata": {
        "id": "_ofwwiI_sBDh"
      },
      "execution_count": null,
      "outputs": []
    },
    {
      "cell_type": "markdown",
      "source": [
        "**PARTE 7 - POO**"
      ],
      "metadata": {
        "id": "MnNMf1C9Axqp"
      }
    },
    {
      "cell_type": "markdown",
      "source": [
        "**Classe Pessoa Crie uma classe chamada Pessoa que tenha atributos como nome, idade e profissão. Crie um método que imprima uma saudação com as informações da pessoa.**"
      ],
      "metadata": {
        "id": "vCB5b0L3A0Hv"
      }
    },
    {
      "cell_type": "code",
      "source": [
        "class Pessoa():\n",
        "  def __init__(self, nome, idade, profissao):\n",
        "    self.nome = nome\n",
        "    self.idade = idade\n",
        "    self.profissao = profissao\n",
        "\n",
        "  def saudacao(self):\n",
        "    print(f'oi meu nome é {self.nome}, tenho {self.idade} anos e sou {self.profissao}')\n",
        "\n",
        "pedro = Pessoa('Pedro', 18, 'padeiro')\n",
        "pedro.saudacao()\n",
        "\n",
        "arthur = Pessoa('Arthur', 20, 'Programador')\n",
        "arthur.saudacao()"
      ],
      "metadata": {
        "id": "h_MRRHXUA7kf"
      },
      "execution_count": null,
      "outputs": []
    },
    {
      "cell_type": "markdown",
      "source": [
        "**Classe Conta Bancária Crie uma classe chamada ContaBancaria que tenha atributos como titular, saldo e métodos para depositar e sacar dinheiro.**"
      ],
      "metadata": {
        "id": "bmoFfyruYnud"
      }
    },
    {
      "cell_type": "code",
      "source": [
        "class contaBancaria():\n",
        "  def __init__(self, titular, saldo):\n",
        "    self.titular = titular\n",
        "    self.saldo = saldo\n",
        "\n",
        "  def depositar(self):\n",
        "    self.saldo += int(input(\"\\nDigite o quanto você deseja depositar: \"))\n",
        "\n",
        "  def sacar(self):\n",
        "    self.saldo -= int(input(\"\\nDigite o quanto você deseja sacar: \"))\n",
        "\n",
        "  def __str__(self):\n",
        "    return f\"\\nEssa conta tem {self.saldo}R$\"\n",
        "\n",
        "\n",
        "conta = contaBancaria(\"Arthur\", 0)\n",
        "conta.depositar()\n",
        "conta.sacar()\n",
        "print(conta)"
      ],
      "metadata": {
        "id": "O1V2g6edYsJ-"
      },
      "execution_count": null,
      "outputs": []
    },
    {
      "cell_type": "markdown",
      "source": [
        "**Classe Carro Crie uma classe chamada Carro com atributos como marca, modelo e ano. Crie um método para acelerar o carro.**"
      ],
      "metadata": {
        "id": "umN52igzaw_f"
      }
    },
    {
      "cell_type": "code",
      "source": [
        "class carro():\n",
        "  def __init__(self, marca, modelo, ano):\n",
        "    self.marca = marca\n",
        "    self.modelo = modelo\n",
        "    self.ano = ano\n",
        "    self.velocidade = 0\n",
        "\n",
        "  def acelerar(self):\n",
        "    self.velocidade += int(input(\"\\nDigite a velocidade de aceleracao que você deseja: \"))\n",
        "\n",
        "  def desacelerar(self):\n",
        "    self.velocidade -= int(input(\"\\nDigite a velocidade de desaceleracao que você deseja: \"))\n",
        "\n",
        "  def __str__(self):\n",
        "    return f\"\\nEsse é o carro {self.modelo} e ele está andando a {self.velocidade}km/h\"\n",
        "\n",
        "Punto = carro(\"ford\", \"Punto Fire 1.4\", \"2010\")\n",
        "Punto.acelerar()\n",
        "Punto.desacelerar()\n",
        "print(Punto)"
      ],
      "metadata": {
        "id": "h6Ki2SlKayc-"
      },
      "execution_count": null,
      "outputs": []
    },
    {
      "cell_type": "markdown",
      "source": [
        "**Herança de Formas Geométricas Crie uma classe base chamada FormaGeometrica com um método para calcular a área. Em seguida, crie subclasses como Retangulo e Circulo que herdam de FormaGeometrica e implementam seus próprios métodos para calcular a área.**"
      ],
      "metadata": {
        "id": "nTuV7U3cdDJ7"
      }
    },
    {
      "cell_type": "code",
      "source": [
        "import numpy as np\n",
        "\n",
        "class formaGeometrica():\n",
        "  def calcularArea(self, raio):\n",
        "    return \"%1.2f\" % (np.pi * raio**2)\n",
        "\n",
        "class circulo(formaGeometrica):\n",
        "  pass\n",
        "\n",
        "class retangulo(formaGeometrica):\n",
        "  def calcularArea(self, base, altura):\n",
        "    return (base * altura)\n",
        "\n",
        "circulo = circulo()\n",
        "print(circulo.calcularArea(10))\n",
        "\n",
        "retangulo = retangulo()\n",
        "print(retangulo.calcularArea(10,10))"
      ],
      "metadata": {
        "id": "LmV8SOPhdFY7"
      },
      "execution_count": null,
      "outputs": []
    }
  ]
}